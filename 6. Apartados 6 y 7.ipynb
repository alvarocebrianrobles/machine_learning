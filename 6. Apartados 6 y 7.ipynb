{
 "cells": [
  {
   "cell_type": "markdown",
   "metadata": {},
   "source": [
    "### EX. 1. PART 6 & PART 7\n",
    "\n",
    "** AUTHORS: Jorge Aranda & Álvaro Cebrián **\n",
    "\n",
    "We have answered parts 6 and 7 in the same page code because we can take some pices of the code for the same purpose."
   ]
  },
  {
   "cell_type": "markdown",
   "metadata": {},
   "source": [
    "#### Common parts of the code"
   ]
  },
  {
   "cell_type": "code",
   "execution_count": 1,
   "metadata": {
    "collapsed": true
   },
   "outputs": [],
   "source": [
    "# Importing libraries\n",
    "import numpy as np\n",
    "import matplotlib.pyplot as plt\n",
    "from sklearn.datasets import load_breast_cancer\n",
    "from sklearn.neighbors import KNeighborsClassifier\n",
    "from sklearn.model_selection import GridSearchCV\n",
    "from sklearn.model_selection import train_test_split\n",
    "from sklearn.metrics import accuracy_score"
   ]
  },
  {
   "cell_type": "code",
   "execution_count": 2,
   "metadata": {
    "collapsed": true
   },
   "outputs": [],
   "source": [
    "# Using the dataset with a variable\n",
    "b_cancer = load_breast_cancer()"
   ]
  },
  {
   "cell_type": "code",
   "execution_count": 3,
   "metadata": {
    "collapsed": true
   },
   "outputs": [],
   "source": [
    "# Establishing our attributes and classes\n",
    "X = b_cancer.data\n",
    "Y = b_cancer.target"
   ]
  },
  {
   "cell_type": "code",
   "execution_count": 4,
   "metadata": {
    "collapsed": true
   },
   "outputs": [],
   "source": [
    "# Splitting the dataset into train and test subsets\n",
    "Xtrain, Xtest, Ytrain, Ytest = train_test_split(X, Y, random_state=0)"
   ]
  },
  {
   "cell_type": "code",
   "execution_count": 5,
   "metadata": {
    "collapsed": true
   },
   "outputs": [],
   "source": [
    "# Using a variable to pass KNN function method\n",
    "miKvecinos = KNeighborsClassifier()"
   ]
  },
  {
   "cell_type": "markdown",
   "metadata": {
    "collapsed": true
   },
   "source": [
    "#### Part 6"
   ]
  },
  {
   "cell_type": "code",
   "execution_count": 7,
   "metadata": {
    "collapsed": true
   },
   "outputs": [],
   "source": [
    "# Declaring a variable with grid values we will use in GridSearchCV\n",
    "mi_param_grid = {'n_neighbors': [3,5,7,9,11,13,15],'weights':['uniform','distance']}"
   ]
  },
  {
   "cell_type": "code",
   "execution_count": 8,
   "metadata": {
    "collapsed": true
   },
   "outputs": [],
   "source": [
    "# GridSearchCV:\n",
    "migscv = GridSearchCV(miKvecinos,mi_param_grid,cv=10)"
   ]
  },
  {
   "cell_type": "code",
   "execution_count": 9,
   "metadata": {},
   "outputs": [
    {
     "data": {
      "text/plain": [
       "GridSearchCV(cv=10, error_score='raise',\n",
       "       estimator=KNeighborsClassifier(algorithm='auto', leaf_size=30, metric='minkowski',\n",
       "           metric_params=None, n_jobs=1, n_neighbors=5, p=2,\n",
       "           weights='uniform'),\n",
       "       fit_params=None, iid=True, n_jobs=1,\n",
       "       param_grid={'n_neighbors': [3, 5, 7, 9, 11, 13, 15], 'weights': ['uniform', 'distance']},\n",
       "       pre_dispatch='2*n_jobs', refit=True, return_train_score='warn',\n",
       "       scoring=None, verbose=0)"
      ]
     },
     "execution_count": 9,
     "metadata": {},
     "output_type": "execute_result"
    }
   ],
   "source": [
    "# Fitting the model with train dataset\n",
    "migscv.fit(Xtrain, Ytrain)"
   ]
  },
  {
   "cell_type": "code",
   "execution_count": 10,
   "metadata": {},
   "outputs": [
    {
     "name": "stdout",
     "output_type": "stream",
     "text": [
      "Score testing: 0.937062937063\n"
     ]
    }
   ],
   "source": [
    "# Getting the model score from test dataset:\n",
    "print(\"Score testing: \" + str (migscv.score(Xtest, Ytest)))"
   ]
  },
  {
   "cell_type": "code",
   "execution_count": 11,
   "metadata": {},
   "outputs": [
    {
     "name": "stderr",
     "output_type": "stream",
     "text": [
      "/Users/alvarocebrian/anaconda3/lib/python3.6/site-packages/sklearn/model_selection/_search.py:761: DeprecationWarning: The grid_scores_ attribute was deprecated in version 0.18 in favor of the more elaborate cv_results_ attribute. The grid_scores_ attribute will not be available from 0.20\n",
      "  DeprecationWarning)\n"
     ]
    },
    {
     "data": {
      "text/plain": [
       "[mean: 0.91784, std: 0.03904, params: {'n_neighbors': 3, 'weights': 'uniform'},\n",
       " mean: 0.92019, std: 0.03612, params: {'n_neighbors': 3, 'weights': 'distance'},\n",
       " mean: 0.92723, std: 0.04630, params: {'n_neighbors': 5, 'weights': 'uniform'},\n",
       " mean: 0.92723, std: 0.04630, params: {'n_neighbors': 5, 'weights': 'distance'},\n",
       " mean: 0.92723, std: 0.04825, params: {'n_neighbors': 7, 'weights': 'uniform'},\n",
       " mean: 0.92958, std: 0.04663, params: {'n_neighbors': 7, 'weights': 'distance'},\n",
       " mean: 0.92723, std: 0.04488, params: {'n_neighbors': 9, 'weights': 'uniform'},\n",
       " mean: 0.92723, std: 0.04488, params: {'n_neighbors': 9, 'weights': 'distance'},\n",
       " mean: 0.92488, std: 0.04411, params: {'n_neighbors': 11, 'weights': 'uniform'},\n",
       " mean: 0.92723, std: 0.04488, params: {'n_neighbors': 11, 'weights': 'distance'},\n",
       " mean: 0.92488, std: 0.04153, params: {'n_neighbors': 13, 'weights': 'uniform'},\n",
       " mean: 0.92958, std: 0.04187, params: {'n_neighbors': 13, 'weights': 'distance'},\n",
       " mean: 0.92488, std: 0.04033, params: {'n_neighbors': 15, 'weights': 'uniform'},\n",
       " mean: 0.92958, std: 0.04187, params: {'n_neighbors': 15, 'weights': 'distance'}]"
      ]
     },
     "execution_count": 11,
     "metadata": {},
     "output_type": "execute_result"
    }
   ],
   "source": [
    "# All scores obtained with the grid declared previously\n",
    "migscv.grid_scores_ "
   ]
  },
  {
   "cell_type": "code",
   "execution_count": 12,
   "metadata": {},
   "outputs": [
    {
     "name": "stdout",
     "output_type": "stream",
     "text": [
      "{'n_neighbors': 7, 'weights': 'distance'}\n"
     ]
    }
   ],
   "source": [
    "# Best parameter\n",
    "print(migscv.best_params_)"
   ]
  },
  {
   "cell_type": "markdown",
   "metadata": {
    "collapsed": true
   },
   "source": [
    "#### Part 7"
   ]
  },
  {
   "cell_type": "code",
   "execution_count": 14,
   "metadata": {
    "collapsed": true
   },
   "outputs": [],
   "source": [
    "# Doing the same as before, although we will use different metrics possibilities this time\n",
    "mi_param_grid_2 = {'n_neighbors': [3,5,7,9,11,13,15],'weights':['uniform','distance'], 'metric':['euclidean', 'manhattan', 'chebyshev', 'minkowski']}"
   ]
  },
  {
   "cell_type": "code",
   "execution_count": 15,
   "metadata": {
    "collapsed": true
   },
   "outputs": [],
   "source": [
    "migscv_2 = GridSearchCV(miKvecinos,mi_param_grid_2,cv=10)"
   ]
  },
  {
   "cell_type": "code",
   "execution_count": 16,
   "metadata": {},
   "outputs": [
    {
     "data": {
      "text/plain": [
       "GridSearchCV(cv=10, error_score='raise',\n",
       "       estimator=KNeighborsClassifier(algorithm='auto', leaf_size=30, metric='minkowski',\n",
       "           metric_params=None, n_jobs=1, n_neighbors=5, p=2,\n",
       "           weights='uniform'),\n",
       "       fit_params=None, iid=True, n_jobs=1,\n",
       "       param_grid={'n_neighbors': [3, 5, 7, 9, 11, 13, 15], 'weights': ['uniform', 'distance'], 'metric': ['euclidean', 'manhattan', 'chebyshev', 'minkowski']},\n",
       "       pre_dispatch='2*n_jobs', refit=True, return_train_score='warn',\n",
       "       scoring=None, verbose=0)"
      ]
     },
     "execution_count": 16,
     "metadata": {},
     "output_type": "execute_result"
    }
   ],
   "source": [
    "migscv_2.fit(Xtrain, Ytrain)"
   ]
  },
  {
   "cell_type": "code",
   "execution_count": 17,
   "metadata": {},
   "outputs": [
    {
     "name": "stdout",
     "output_type": "stream",
     "text": [
      "Score testing: 0.958041958042\n"
     ]
    }
   ],
   "source": [
    "print(\"Score testing: \" + str (migscv_2.score(Xtest, Ytest)))"
   ]
  },
  {
   "cell_type": "code",
   "execution_count": 18,
   "metadata": {},
   "outputs": [
    {
     "name": "stderr",
     "output_type": "stream",
     "text": [
      "/Users/alvarocebrian/anaconda3/lib/python3.6/site-packages/sklearn/model_selection/_search.py:761: DeprecationWarning: The grid_scores_ attribute was deprecated in version 0.18 in favor of the more elaborate cv_results_ attribute. The grid_scores_ attribute will not be available from 0.20\n",
      "  DeprecationWarning)\n"
     ]
    },
    {
     "data": {
      "text/plain": [
       "[mean: 0.91784, std: 0.03904, params: {'metric': 'euclidean', 'n_neighbors': 3, 'weights': 'uniform'},\n",
       " mean: 0.92019, std: 0.03612, params: {'metric': 'euclidean', 'n_neighbors': 3, 'weights': 'distance'},\n",
       " mean: 0.92723, std: 0.04630, params: {'metric': 'euclidean', 'n_neighbors': 5, 'weights': 'uniform'},\n",
       " mean: 0.92723, std: 0.04630, params: {'metric': 'euclidean', 'n_neighbors': 5, 'weights': 'distance'},\n",
       " mean: 0.92723, std: 0.04825, params: {'metric': 'euclidean', 'n_neighbors': 7, 'weights': 'uniform'},\n",
       " mean: 0.92958, std: 0.04663, params: {'metric': 'euclidean', 'n_neighbors': 7, 'weights': 'distance'},\n",
       " mean: 0.92723, std: 0.04488, params: {'metric': 'euclidean', 'n_neighbors': 9, 'weights': 'uniform'},\n",
       " mean: 0.92723, std: 0.04488, params: {'metric': 'euclidean', 'n_neighbors': 9, 'weights': 'distance'},\n",
       " mean: 0.92488, std: 0.04411, params: {'metric': 'euclidean', 'n_neighbors': 11, 'weights': 'uniform'},\n",
       " mean: 0.92723, std: 0.04488, params: {'metric': 'euclidean', 'n_neighbors': 11, 'weights': 'distance'},\n",
       " mean: 0.92488, std: 0.04153, params: {'metric': 'euclidean', 'n_neighbors': 13, 'weights': 'uniform'},\n",
       " mean: 0.92958, std: 0.04187, params: {'metric': 'euclidean', 'n_neighbors': 13, 'weights': 'distance'},\n",
       " mean: 0.92488, std: 0.04033, params: {'metric': 'euclidean', 'n_neighbors': 15, 'weights': 'uniform'},\n",
       " mean: 0.92958, std: 0.04187, params: {'metric': 'euclidean', 'n_neighbors': 15, 'weights': 'distance'},\n",
       " mean: 0.93427, std: 0.03068, params: {'metric': 'manhattan', 'n_neighbors': 3, 'weights': 'uniform'},\n",
       " mean: 0.93427, std: 0.03068, params: {'metric': 'manhattan', 'n_neighbors': 3, 'weights': 'distance'},\n",
       " mean: 0.93427, std: 0.04528, params: {'metric': 'manhattan', 'n_neighbors': 5, 'weights': 'uniform'},\n",
       " mean: 0.93427, std: 0.04528, params: {'metric': 'manhattan', 'n_neighbors': 5, 'weights': 'distance'},\n",
       " mean: 0.94131, std: 0.04471, params: {'metric': 'manhattan', 'n_neighbors': 7, 'weights': 'uniform'},\n",
       " mean: 0.94131, std: 0.04471, params: {'metric': 'manhattan', 'n_neighbors': 7, 'weights': 'distance'},\n",
       " mean: 0.93427, std: 0.04022, params: {'metric': 'manhattan', 'n_neighbors': 9, 'weights': 'uniform'},\n",
       " mean: 0.93662, std: 0.03783, params: {'metric': 'manhattan', 'n_neighbors': 9, 'weights': 'distance'},\n",
       " mean: 0.94131, std: 0.03325, params: {'metric': 'manhattan', 'n_neighbors': 11, 'weights': 'uniform'},\n",
       " mean: 0.94131, std: 0.03176, params: {'metric': 'manhattan', 'n_neighbors': 11, 'weights': 'distance'},\n",
       " mean: 0.92958, std: 0.03322, params: {'metric': 'manhattan', 'n_neighbors': 13, 'weights': 'uniform'},\n",
       " mean: 0.93897, std: 0.03016, params: {'metric': 'manhattan', 'n_neighbors': 13, 'weights': 'distance'},\n",
       " mean: 0.92958, std: 0.02763, params: {'metric': 'manhattan', 'n_neighbors': 15, 'weights': 'uniform'},\n",
       " mean: 0.93192, std: 0.02883, params: {'metric': 'manhattan', 'n_neighbors': 15, 'weights': 'distance'},\n",
       " mean: 0.92019, std: 0.04768, params: {'metric': 'chebyshev', 'n_neighbors': 3, 'weights': 'uniform'},\n",
       " mean: 0.92019, std: 0.04425, params: {'metric': 'chebyshev', 'n_neighbors': 3, 'weights': 'distance'},\n",
       " mean: 0.92958, std: 0.03928, params: {'metric': 'chebyshev', 'n_neighbors': 5, 'weights': 'uniform'},\n",
       " mean: 0.92723, std: 0.03985, params: {'metric': 'chebyshev', 'n_neighbors': 5, 'weights': 'distance'},\n",
       " mean: 0.92488, std: 0.04305, params: {'metric': 'chebyshev', 'n_neighbors': 7, 'weights': 'uniform'},\n",
       " mean: 0.92958, std: 0.04314, params: {'metric': 'chebyshev', 'n_neighbors': 7, 'weights': 'distance'},\n",
       " mean: 0.92723, std: 0.04378, params: {'metric': 'chebyshev', 'n_neighbors': 9, 'weights': 'uniform'},\n",
       " mean: 0.92723, std: 0.04488, params: {'metric': 'chebyshev', 'n_neighbors': 9, 'weights': 'distance'},\n",
       " mean: 0.92488, std: 0.04434, params: {'metric': 'chebyshev', 'n_neighbors': 11, 'weights': 'uniform'},\n",
       " mean: 0.92723, std: 0.04488, params: {'metric': 'chebyshev', 'n_neighbors': 11, 'weights': 'distance'},\n",
       " mean: 0.92723, std: 0.04246, params: {'metric': 'chebyshev', 'n_neighbors': 13, 'weights': 'uniform'},\n",
       " mean: 0.92958, std: 0.04187, params: {'metric': 'chebyshev', 'n_neighbors': 13, 'weights': 'distance'},\n",
       " mean: 0.92254, std: 0.04193, params: {'metric': 'chebyshev', 'n_neighbors': 15, 'weights': 'uniform'},\n",
       " mean: 0.92958, std: 0.04187, params: {'metric': 'chebyshev', 'n_neighbors': 15, 'weights': 'distance'},\n",
       " mean: 0.91784, std: 0.03904, params: {'metric': 'minkowski', 'n_neighbors': 3, 'weights': 'uniform'},\n",
       " mean: 0.92019, std: 0.03612, params: {'metric': 'minkowski', 'n_neighbors': 3, 'weights': 'distance'},\n",
       " mean: 0.92723, std: 0.04630, params: {'metric': 'minkowski', 'n_neighbors': 5, 'weights': 'uniform'},\n",
       " mean: 0.92723, std: 0.04630, params: {'metric': 'minkowski', 'n_neighbors': 5, 'weights': 'distance'},\n",
       " mean: 0.92723, std: 0.04825, params: {'metric': 'minkowski', 'n_neighbors': 7, 'weights': 'uniform'},\n",
       " mean: 0.92958, std: 0.04663, params: {'metric': 'minkowski', 'n_neighbors': 7, 'weights': 'distance'},\n",
       " mean: 0.92723, std: 0.04488, params: {'metric': 'minkowski', 'n_neighbors': 9, 'weights': 'uniform'},\n",
       " mean: 0.92723, std: 0.04488, params: {'metric': 'minkowski', 'n_neighbors': 9, 'weights': 'distance'},\n",
       " mean: 0.92488, std: 0.04411, params: {'metric': 'minkowski', 'n_neighbors': 11, 'weights': 'uniform'},\n",
       " mean: 0.92723, std: 0.04488, params: {'metric': 'minkowski', 'n_neighbors': 11, 'weights': 'distance'},\n",
       " mean: 0.92488, std: 0.04153, params: {'metric': 'minkowski', 'n_neighbors': 13, 'weights': 'uniform'},\n",
       " mean: 0.92958, std: 0.04187, params: {'metric': 'minkowski', 'n_neighbors': 13, 'weights': 'distance'},\n",
       " mean: 0.92488, std: 0.04033, params: {'metric': 'minkowski', 'n_neighbors': 15, 'weights': 'uniform'},\n",
       " mean: 0.92958, std: 0.04187, params: {'metric': 'minkowski', 'n_neighbors': 15, 'weights': 'distance'}]"
      ]
     },
     "execution_count": 18,
     "metadata": {},
     "output_type": "execute_result"
    }
   ],
   "source": [
    "migscv_2.grid_scores_ "
   ]
  },
  {
   "cell_type": "code",
   "execution_count": 19,
   "metadata": {},
   "outputs": [
    {
     "name": "stdout",
     "output_type": "stream",
     "text": [
      "{'metric': 'manhattan', 'n_neighbors': 7, 'weights': 'uniform'}\n"
     ]
    }
   ],
   "source": [
    "print(migscv_2.best_params_)"
   ]
  }
 ],
 "metadata": {
  "kernelspec": {
   "display_name": "Python 3",
   "language": "python",
   "name": "python3"
  },
  "language_info": {
   "codemirror_mode": {
    "name": "ipython",
    "version": 3
   },
   "file_extension": ".py",
   "mimetype": "text/x-python",
   "name": "python",
   "nbconvert_exporter": "python",
   "pygments_lexer": "ipython3",
   "version": "3.6.3"
  }
 },
 "nbformat": 4,
 "nbformat_minor": 2
}
