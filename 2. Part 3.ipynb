{
 "cells": [
  {
   "cell_type": "markdown",
   "metadata": {},
   "source": [
    "### EX. 1. PART 3\n",
    "\n",
    "** AUTHORS: Jorge Aranda & Álvaro Cebrián **\n",
    "\n",
    "<p><span style=\"color:green\">We explain step-by-step code by using common python comments </span></p>"
   ]
  },
  {
   "cell_type": "code",
   "execution_count": 1,
   "metadata": {
    "collapsed": true
   },
   "outputs": [],
   "source": [
    "# Importing common libraries\n",
    "import numpy as np\n",
    "import matplotlib.pyplot as plt\n",
    "from sklearn.datasets import load_breast_cancer"
   ]
  },
  {
   "cell_type": "code",
   "execution_count": 2,
   "metadata": {
    "collapsed": true
   },
   "outputs": [],
   "source": [
    "# Storing breast cancer dataset into the b_cancer variable\n",
    "b_cancer = load_breast_cancer()"
   ]
  },
  {
   "cell_type": "code",
   "execution_count": 3,
   "metadata": {
    "collapsed": true
   },
   "outputs": [],
   "source": [
    "# Establishing our attributes and classes for X and Y\n",
    "X = b_cancer.data\n",
    "Y = b_cancer.target"
   ]
  },
  {
   "cell_type": "code",
   "execution_count": 96,
   "metadata": {},
   "outputs": [
    {
     "data": {
      "text/plain": [
       "array([[  1.79900000e+01,   1.03800000e+01,   1.22800000e+02, ...,\n",
       "          2.65400000e-01,   4.60100000e-01,   1.18900000e-01],\n",
       "       [  2.05700000e+01,   1.77700000e+01,   1.32900000e+02, ...,\n",
       "          1.86000000e-01,   2.75000000e-01,   8.90200000e-02],\n",
       "       [  1.96900000e+01,   2.12500000e+01,   1.30000000e+02, ...,\n",
       "          2.43000000e-01,   3.61300000e-01,   8.75800000e-02],\n",
       "       ..., \n",
       "       [  1.66000000e+01,   2.80800000e+01,   1.08300000e+02, ...,\n",
       "          1.41800000e-01,   2.21800000e-01,   7.82000000e-02],\n",
       "       [  2.06000000e+01,   2.93300000e+01,   1.40100000e+02, ...,\n",
       "          2.65000000e-01,   4.08700000e-01,   1.24000000e-01],\n",
       "       [  7.76000000e+00,   2.45400000e+01,   4.79200000e+01, ...,\n",
       "          0.00000000e+00,   2.87100000e-01,   7.03900000e-02]])"
      ]
     },
     "execution_count": 96,
     "metadata": {},
     "output_type": "execute_result"
    }
   ],
   "source": [
    "X"
   ]
  },
  {
   "cell_type": "code",
   "execution_count": 4,
   "metadata": {
    "collapsed": true
   },
   "outputs": [],
   "source": [
    "### Part 1: Spliting the dataset. Defining a training and a testing subsets."
   ]
  },
  {
   "cell_type": "code",
   "execution_count": 5,
   "metadata": {
    "collapsed": true
   },
   "outputs": [],
   "source": [
    "from sklearn.model_selection import StratifiedShuffleSplit\n",
    "from sklearn.neighbors import KNeighborsClassifier"
   ]
  },
  {
   "cell_type": "code",
   "execution_count": 6,
   "metadata": {
    "collapsed": true
   },
   "outputs": [],
   "source": [
    "#Values means: we are splitting the 30% of the dataset into 100 aleatory parts, but homogeneously (stratified)\n",
    "mi_sss = StratifiedShuffleSplit(20, 0.3) "
   ]
  },
  {
   "cell_type": "code",
   "execution_count": 7,
   "metadata": {
    "collapsed": true
   },
   "outputs": [],
   "source": [
    "fallos = [] # We are declaring an empty list that will be filled in the \"for-loop\".\n",
    "index = 0 # We put index to 0 because we will use it as a counter in the \"for-loop\"\n",
    "test_accuracy = []\n",
    "train_accuracy = []\n",
    "\n",
    "#We establish the train set and the test set using the SSS function declared above from the original dataset by using a for loop:\n",
    "for train_index, test_index in mi_sss.split(X,Y): \n",
    "    Xtrain = X[train_index,:]\n",
    "    Xtest = X[test_index,:]\n",
    "    Ytrain = Y[train_index]\n",
    "    Ytest = Y[test_index]\n",
    "    miKvecinos = KNeighborsClassifier(n_neighbors=5) \n",
    "    miKvecinos.fit(Xtrain,Ytrain) \n",
    "    Ypred = miKvecinos.predict(Xtest)\n",
    "    fallos.append(sum(Ypred!=Ytest))\n",
    "    index = index + 1\n",
    "    train_accuracy.append(miKvecinos.score(Xtrain, Ytrain))\n",
    "    test_accuracy.append(miKvecinos.score(Xtest, Ytest))\n"
   ]
  },
  {
   "cell_type": "code",
   "execution_count": 8,
   "metadata": {},
   "outputs": [
    {
     "name": "stdout",
     "output_type": "stream",
     "text": [
      "Num. medio de errores de: 7.22222222222\n",
      "Dev. Std. de errores de: 1.32420957593\n",
      "Accuracy for a single KNN with k=5: KNeighborsClassifier(algorithm='auto', leaf_size=30, metric='minkowski',\n",
      "           metric_params=None, n_jobs=1, n_neighbors=5, p=2,\n",
      "           weights='uniform')\n"
     ]
    }
   ],
   "source": [
    "print(\"Num. medio de errores de: \" + str(100*np.mean(fallos)/len(Ytest)))\n",
    "print(\"Dev. Std. de errores de: \" + str(100*np.std(fallos)/len(Ytest)))\n",
    "print(\"Accuracy for a single KNN with k=5: \" + str(miKvecinos))"
   ]
  },
  {
   "cell_type": "code",
   "execution_count": 9,
   "metadata": {
    "collapsed": true
   },
   "outputs": [],
   "source": [
    "### Part 2: Cross Validation to know how \"miKvecinos\" will generalize with X and Y data. "
   ]
  },
  {
   "cell_type": "code",
   "execution_count": 10,
   "metadata": {
    "collapsed": true
   },
   "outputs": [],
   "source": [
    "from sklearn.model_selection import cross_val_score"
   ]
  },
  {
   "cell_type": "code",
   "execution_count": 11,
   "metadata": {
    "collapsed": true
   },
   "outputs": [],
   "source": [
    "miKvecinos = KNeighborsClassifier(n_neighbors=3)"
   ]
  },
  {
   "cell_type": "code",
   "execution_count": 12,
   "metadata": {
    "collapsed": true
   },
   "outputs": [],
   "source": [
    "micvs = cross_val_score(miKvecinos,X,Y,cv=10)"
   ]
  },
  {
   "cell_type": "code",
   "execution_count": 13,
   "metadata": {},
   "outputs": [
    {
     "name": "stdout",
     "output_type": "stream",
     "text": [
      "Mean accuracy: 0.926333074064\n",
      "Std: 0.0295872385205\n"
     ]
    }
   ],
   "source": [
    "print(\"Mean accuracy: \" + str(np.mean(micvs)))\n",
    "print(\"Std: \" + str(np.std(micvs)))"
   ]
  },
  {
   "cell_type": "code",
   "execution_count": 14,
   "metadata": {
    "collapsed": true
   },
   "outputs": [],
   "source": [
    "### Part 3: GridSearchCV for miKvecinos"
   ]
  },
  {
   "cell_type": "code",
   "execution_count": 15,
   "metadata": {
    "collapsed": true
   },
   "outputs": [],
   "source": [
    "from sklearn.model_selection import GridSearchCV"
   ]
  },
  {
   "cell_type": "code",
   "execution_count": 16,
   "metadata": {
    "collapsed": true
   },
   "outputs": [],
   "source": [
    "miKvecinos = KNeighborsClassifier()"
   ]
  },
  {
   "cell_type": "code",
   "execution_count": 17,
   "metadata": {
    "collapsed": true
   },
   "outputs": [],
   "source": [
    "mi_param_grid = {'n_neighbors': [3,5,7,9,11,13,15],'weights':['uniform','distance']}"
   ]
  },
  {
   "cell_type": "code",
   "execution_count": 18,
   "metadata": {
    "collapsed": true
   },
   "outputs": [],
   "source": [
    "# Implements a “fit” and a “score” method. The best estimator is kept for ensure dataset is well trained. \n",
    "migscv = GridSearchCV(miKvecinos,mi_param_grid,cv=10,verbose=2)"
   ]
  },
  {
   "cell_type": "code",
   "execution_count": 19,
   "metadata": {},
   "outputs": [
    {
     "name": "stdout",
     "output_type": "stream",
     "text": [
      "Fitting 10 folds for each of 14 candidates, totalling 140 fits\n",
      "[CV] n_neighbors=3, weights=uniform ..................................\n",
      "[CV] ................... n_neighbors=3, weights=uniform, total=   0.0s\n",
      "[CV] n_neighbors=3, weights=uniform ..................................\n",
      "[CV] ................... n_neighbors=3, weights=uniform, total=   0.0s\n",
      "[CV] n_neighbors=3, weights=uniform ..................................\n",
      "[CV] ................... n_neighbors=3, weights=uniform, total=   0.0s\n",
      "[CV] n_neighbors=3, weights=uniform ..................................\n",
      "[CV] ................... n_neighbors=3, weights=uniform, total=   0.0s\n",
      "[CV] n_neighbors=3, weights=uniform ..................................\n",
      "[CV] ................... n_neighbors=3, weights=uniform, total=   0.0s\n",
      "[CV] n_neighbors=3, weights=uniform ..................................\n",
      "[CV] ................... n_neighbors=3, weights=uniform, total=   0.0s\n",
      "[CV] n_neighbors=3, weights=uniform ..................................\n",
      "[CV] ................... n_neighbors=3, weights=uniform, total=   0.0s\n",
      "[CV] n_neighbors=3, weights=uniform ..................................\n",
      "[CV] ................... n_neighbors=3, weights=uniform, total=   0.0s\n",
      "[CV] n_neighbors=3, weights=uniform ..................................\n",
      "[CV] ................... n_neighbors=3, weights=uniform, total=   0.0s\n",
      "[CV] n_neighbors=3, weights=uniform ..................................\n",
      "[CV] ................... n_neighbors=3, weights=uniform, total=   0.0s\n",
      "[CV] n_neighbors=3, weights=distance .................................\n",
      "[CV] .................. n_neighbors=3, weights=distance, total=   0.0s\n",
      "[CV] n_neighbors=3, weights=distance .................................\n",
      "[CV] .................. n_neighbors=3, weights=distance, total=   0.0s\n",
      "[CV] n_neighbors=3, weights=distance .................................\n",
      "[CV] .................. n_neighbors=3, weights=distance, total=   0.0s\n",
      "[CV] n_neighbors=3, weights=distance .................................\n",
      "[CV] .................. n_neighbors=3, weights=distance, total=   0.0s\n",
      "[CV] n_neighbors=3, weights=distance .................................\n",
      "[CV] .................. n_neighbors=3, weights=distance, total=   0.0s\n",
      "[CV] n_neighbors=3, weights=distance .................................\n",
      "[CV] .................. n_neighbors=3, weights=distance, total=   0.0s\n",
      "[CV] n_neighbors=3, weights=distance .................................\n",
      "[CV] .................. n_neighbors=3, weights=distance, total=   0.0s\n",
      "[CV] n_neighbors=3, weights=distance .................................\n",
      "[CV] .................. n_neighbors=3, weights=distance, total=   0.0s\n",
      "[CV] n_neighbors=3, weights=distance .................................\n",
      "[CV] .................. n_neighbors=3, weights=distance, total=   0.0s\n",
      "[CV] n_neighbors=3, weights=distance .................................\n",
      "[CV] .................. n_neighbors=3, weights=distance, total=   0.0s\n",
      "[CV] n_neighbors=5, weights=uniform ..................................\n"
     ]
    },
    {
     "name": "stderr",
     "output_type": "stream",
     "text": [
      "[Parallel(n_jobs=1)]: Done   1 out of   1 | elapsed:    0.0s remaining:    0.0s\n"
     ]
    },
    {
     "name": "stdout",
     "output_type": "stream",
     "text": [
      "[CV] ................... n_neighbors=5, weights=uniform, total=   0.0s\n",
      "[CV] n_neighbors=5, weights=uniform ..................................\n",
      "[CV] ................... n_neighbors=5, weights=uniform, total=   0.0s\n",
      "[CV] n_neighbors=5, weights=uniform ..................................\n",
      "[CV] ................... n_neighbors=5, weights=uniform, total=   0.0s\n",
      "[CV] n_neighbors=5, weights=uniform ..................................\n",
      "[CV] ................... n_neighbors=5, weights=uniform, total=   0.0s\n",
      "[CV] n_neighbors=5, weights=uniform ..................................\n",
      "[CV] ................... n_neighbors=5, weights=uniform, total=   0.0s\n",
      "[CV] n_neighbors=5, weights=uniform ..................................\n",
      "[CV] ................... n_neighbors=5, weights=uniform, total=   0.0s\n",
      "[CV] n_neighbors=5, weights=uniform ..................................\n",
      "[CV] ................... n_neighbors=5, weights=uniform, total=   0.0s\n",
      "[CV] n_neighbors=5, weights=uniform ..................................\n",
      "[CV] ................... n_neighbors=5, weights=uniform, total=   0.0s\n",
      "[CV] n_neighbors=5, weights=uniform ..................................\n",
      "[CV] ................... n_neighbors=5, weights=uniform, total=   0.0s\n",
      "[CV] n_neighbors=5, weights=uniform ..................................\n",
      "[CV] ................... n_neighbors=5, weights=uniform, total=   0.0s\n",
      "[CV] n_neighbors=5, weights=distance .................................\n",
      "[CV] .................. n_neighbors=5, weights=distance, total=   0.0s\n",
      "[CV] n_neighbors=5, weights=distance .................................\n",
      "[CV] .................. n_neighbors=5, weights=distance, total=   0.0s\n",
      "[CV] n_neighbors=5, weights=distance .................................\n",
      "[CV] .................. n_neighbors=5, weights=distance, total=   0.0s\n",
      "[CV] n_neighbors=5, weights=distance .................................\n",
      "[CV] .................. n_neighbors=5, weights=distance, total=   0.0s\n",
      "[CV] n_neighbors=5, weights=distance .................................\n",
      "[CV] .................. n_neighbors=5, weights=distance, total=   0.0s\n",
      "[CV] n_neighbors=5, weights=distance .................................\n",
      "[CV] .................. n_neighbors=5, weights=distance, total=   0.0s\n",
      "[CV] n_neighbors=5, weights=distance .................................\n",
      "[CV] .................. n_neighbors=5, weights=distance, total=   0.0s\n",
      "[CV] n_neighbors=5, weights=distance .................................\n",
      "[CV] .................. n_neighbors=5, weights=distance, total=   0.0s\n",
      "[CV] n_neighbors=5, weights=distance .................................\n",
      "[CV] .................. n_neighbors=5, weights=distance, total=   0.0s\n",
      "[CV] n_neighbors=5, weights=distance .................................\n",
      "[CV] .................. n_neighbors=5, weights=distance, total=   0.0s\n",
      "[CV] n_neighbors=7, weights=uniform ..................................\n",
      "[CV] ................... n_neighbors=7, weights=uniform, total=   0.0s\n",
      "[CV] n_neighbors=7, weights=uniform ..................................\n",
      "[CV] ................... n_neighbors=7, weights=uniform, total=   0.0s\n",
      "[CV] n_neighbors=7, weights=uniform ..................................\n",
      "[CV] ................... n_neighbors=7, weights=uniform, total=   0.0s\n",
      "[CV] n_neighbors=7, weights=uniform ..................................\n",
      "[CV] ................... n_neighbors=7, weights=uniform, total=   0.0s\n",
      "[CV] n_neighbors=7, weights=uniform ..................................\n",
      "[CV] ................... n_neighbors=7, weights=uniform, total=   0.0s\n",
      "[CV] n_neighbors=7, weights=uniform ..................................\n",
      "[CV] ................... n_neighbors=7, weights=uniform, total=   0.0s\n",
      "[CV] n_neighbors=7, weights=uniform ..................................\n",
      "[CV] ................... n_neighbors=7, weights=uniform, total=   0.0s\n",
      "[CV] n_neighbors=7, weights=uniform ..................................\n",
      "[CV] ................... n_neighbors=7, weights=uniform, total=   0.0s\n",
      "[CV] n_neighbors=7, weights=uniform ..................................\n",
      "[CV] ................... n_neighbors=7, weights=uniform, total=   0.0s\n",
      "[CV] n_neighbors=7, weights=uniform ..................................\n",
      "[CV] ................... n_neighbors=7, weights=uniform, total=   0.0s\n",
      "[CV] n_neighbors=7, weights=distance .................................\n",
      "[CV] .................. n_neighbors=7, weights=distance, total=   0.0s\n",
      "[CV] n_neighbors=7, weights=distance .................................\n",
      "[CV] .................. n_neighbors=7, weights=distance, total=   0.0s\n",
      "[CV] n_neighbors=7, weights=distance .................................\n",
      "[CV] .................. n_neighbors=7, weights=distance, total=   0.0s\n",
      "[CV] n_neighbors=7, weights=distance .................................\n",
      "[CV] .................. n_neighbors=7, weights=distance, total=   0.0s\n",
      "[CV] n_neighbors=7, weights=distance .................................\n",
      "[CV] .................. n_neighbors=7, weights=distance, total=   0.0s\n",
      "[CV] n_neighbors=7, weights=distance .................................\n",
      "[CV] .................. n_neighbors=7, weights=distance, total=   0.0s\n",
      "[CV] n_neighbors=7, weights=distance .................................\n",
      "[CV] .................. n_neighbors=7, weights=distance, total=   0.0s\n",
      "[CV] n_neighbors=7, weights=distance .................................\n",
      "[CV] .................. n_neighbors=7, weights=distance, total=   0.0s\n",
      "[CV] n_neighbors=7, weights=distance .................................\n",
      "[CV] .................. n_neighbors=7, weights=distance, total=   0.0s\n",
      "[CV] n_neighbors=7, weights=distance .................................\n",
      "[CV] .................. n_neighbors=7, weights=distance, total=   0.0s\n",
      "[CV] n_neighbors=9, weights=uniform ..................................\n",
      "[CV] ................... n_neighbors=9, weights=uniform, total=   0.0s\n",
      "[CV] n_neighbors=9, weights=uniform ..................................\n",
      "[CV] ................... n_neighbors=9, weights=uniform, total=   0.0s\n",
      "[CV] n_neighbors=9, weights=uniform ..................................\n",
      "[CV] ................... n_neighbors=9, weights=uniform, total=   0.0s\n",
      "[CV] n_neighbors=9, weights=uniform ..................................\n",
      "[CV] ................... n_neighbors=9, weights=uniform, total=   0.0s\n",
      "[CV] n_neighbors=9, weights=uniform ..................................\n",
      "[CV] ................... n_neighbors=9, weights=uniform, total=   0.0s\n",
      "[CV] n_neighbors=9, weights=uniform ..................................\n",
      "[CV] ................... n_neighbors=9, weights=uniform, total=   0.0s\n",
      "[CV] n_neighbors=9, weights=uniform ..................................\n",
      "[CV] ................... n_neighbors=9, weights=uniform, total=   0.0s\n",
      "[CV] n_neighbors=9, weights=uniform ..................................\n",
      "[CV] ................... n_neighbors=9, weights=uniform, total=   0.0s\n",
      "[CV] n_neighbors=9, weights=uniform ..................................\n",
      "[CV] ................... n_neighbors=9, weights=uniform, total=   0.0s\n",
      "[CV] n_neighbors=9, weights=uniform ..................................\n",
      "[CV] ................... n_neighbors=9, weights=uniform, total=   0.0s\n",
      "[CV] n_neighbors=9, weights=distance .................................\n",
      "[CV] .................. n_neighbors=9, weights=distance, total=   0.0s\n",
      "[CV] n_neighbors=9, weights=distance .................................\n",
      "[CV] .................. n_neighbors=9, weights=distance, total=   0.0s\n",
      "[CV] n_neighbors=9, weights=distance .................................\n",
      "[CV] .................. n_neighbors=9, weights=distance, total=   0.0s\n",
      "[CV] n_neighbors=9, weights=distance .................................\n",
      "[CV] .................. n_neighbors=9, weights=distance, total=   0.0s\n",
      "[CV] n_neighbors=9, weights=distance .................................\n",
      "[CV] .................. n_neighbors=9, weights=distance, total=   0.0s\n",
      "[CV] n_neighbors=9, weights=distance .................................\n",
      "[CV] .................. n_neighbors=9, weights=distance, total=   0.0s\n",
      "[CV] n_neighbors=9, weights=distance .................................\n",
      "[CV] .................. n_neighbors=9, weights=distance, total=   0.0s\n",
      "[CV] n_neighbors=9, weights=distance .................................\n",
      "[CV] .................. n_neighbors=9, weights=distance, total=   0.0s\n",
      "[CV] n_neighbors=9, weights=distance .................................\n",
      "[CV] .................. n_neighbors=9, weights=distance, total=   0.0s\n",
      "[CV] n_neighbors=9, weights=distance .................................\n",
      "[CV] .................. n_neighbors=9, weights=distance, total=   0.0s\n",
      "[CV] n_neighbors=11, weights=uniform .................................\n",
      "[CV] .................. n_neighbors=11, weights=uniform, total=   0.0s\n",
      "[CV] n_neighbors=11, weights=uniform .................................\n",
      "[CV] .................. n_neighbors=11, weights=uniform, total=   0.0s\n"
     ]
    },
    {
     "name": "stdout",
     "output_type": "stream",
     "text": [
      "[CV] n_neighbors=11, weights=uniform .................................\n",
      "[CV] .................. n_neighbors=11, weights=uniform, total=   0.0s\n",
      "[CV] n_neighbors=11, weights=uniform .................................\n",
      "[CV] .................. n_neighbors=11, weights=uniform, total=   0.0s\n",
      "[CV] n_neighbors=11, weights=uniform .................................\n",
      "[CV] .................. n_neighbors=11, weights=uniform, total=   0.0s\n",
      "[CV] n_neighbors=11, weights=uniform .................................\n",
      "[CV] .................. n_neighbors=11, weights=uniform, total=   0.0s\n",
      "[CV] n_neighbors=11, weights=uniform .................................\n",
      "[CV] .................. n_neighbors=11, weights=uniform, total=   0.0s\n",
      "[CV] n_neighbors=11, weights=uniform .................................\n",
      "[CV] .................. n_neighbors=11, weights=uniform, total=   0.0s\n",
      "[CV] n_neighbors=11, weights=uniform .................................\n",
      "[CV] .................. n_neighbors=11, weights=uniform, total=   0.0s\n",
      "[CV] n_neighbors=11, weights=uniform .................................\n",
      "[CV] .................. n_neighbors=11, weights=uniform, total=   0.0s\n",
      "[CV] n_neighbors=11, weights=distance ................................\n",
      "[CV] ................. n_neighbors=11, weights=distance, total=   0.0s\n",
      "[CV] n_neighbors=11, weights=distance ................................\n",
      "[CV] ................. n_neighbors=11, weights=distance, total=   0.0s\n",
      "[CV] n_neighbors=11, weights=distance ................................\n",
      "[CV] ................. n_neighbors=11, weights=distance, total=   0.0s\n",
      "[CV] n_neighbors=11, weights=distance ................................\n",
      "[CV] ................. n_neighbors=11, weights=distance, total=   0.0s\n",
      "[CV] n_neighbors=11, weights=distance ................................\n",
      "[CV] ................. n_neighbors=11, weights=distance, total=   0.0s\n",
      "[CV] n_neighbors=11, weights=distance ................................\n",
      "[CV] ................. n_neighbors=11, weights=distance, total=   0.0s\n",
      "[CV] n_neighbors=11, weights=distance ................................\n",
      "[CV] ................. n_neighbors=11, weights=distance, total=   0.0s\n",
      "[CV] n_neighbors=11, weights=distance ................................\n",
      "[CV] ................. n_neighbors=11, weights=distance, total=   0.0s\n",
      "[CV] n_neighbors=11, weights=distance ................................\n",
      "[CV] ................. n_neighbors=11, weights=distance, total=   0.0s\n",
      "[CV] n_neighbors=11, weights=distance ................................\n",
      "[CV] ................. n_neighbors=11, weights=distance, total=   0.0s\n",
      "[CV] n_neighbors=13, weights=uniform .................................\n",
      "[CV] .................. n_neighbors=13, weights=uniform, total=   0.0s\n",
      "[CV] n_neighbors=13, weights=uniform .................................\n",
      "[CV] .................. n_neighbors=13, weights=uniform, total=   0.0s\n",
      "[CV] n_neighbors=13, weights=uniform .................................\n",
      "[CV] .................. n_neighbors=13, weights=uniform, total=   0.0s\n",
      "[CV] n_neighbors=13, weights=uniform .................................\n",
      "[CV] .................. n_neighbors=13, weights=uniform, total=   0.0s\n",
      "[CV] n_neighbors=13, weights=uniform .................................\n",
      "[CV] .................. n_neighbors=13, weights=uniform, total=   0.0s\n",
      "[CV] n_neighbors=13, weights=uniform .................................\n",
      "[CV] .................. n_neighbors=13, weights=uniform, total=   0.0s\n",
      "[CV] n_neighbors=13, weights=uniform .................................\n",
      "[CV] .................. n_neighbors=13, weights=uniform, total=   0.0s\n",
      "[CV] n_neighbors=13, weights=uniform .................................\n",
      "[CV] .................. n_neighbors=13, weights=uniform, total=   0.0s\n",
      "[CV] n_neighbors=13, weights=uniform .................................\n",
      "[CV] .................. n_neighbors=13, weights=uniform, total=   0.0s\n",
      "[CV] n_neighbors=13, weights=uniform .................................\n",
      "[CV] .................. n_neighbors=13, weights=uniform, total=   0.0s\n",
      "[CV] n_neighbors=13, weights=distance ................................\n",
      "[CV] ................. n_neighbors=13, weights=distance, total=   0.0s\n",
      "[CV] n_neighbors=13, weights=distance ................................\n",
      "[CV] ................. n_neighbors=13, weights=distance, total=   0.0s\n",
      "[CV] n_neighbors=13, weights=distance ................................\n",
      "[CV] ................. n_neighbors=13, weights=distance, total=   0.0s\n",
      "[CV] n_neighbors=13, weights=distance ................................\n",
      "[CV] ................. n_neighbors=13, weights=distance, total=   0.0s\n",
      "[CV] n_neighbors=13, weights=distance ................................\n",
      "[CV] ................. n_neighbors=13, weights=distance, total=   0.0s\n",
      "[CV] n_neighbors=13, weights=distance ................................\n",
      "[CV] ................. n_neighbors=13, weights=distance, total=   0.0s\n",
      "[CV] n_neighbors=13, weights=distance ................................\n",
      "[CV] ................. n_neighbors=13, weights=distance, total=   0.0s\n",
      "[CV] n_neighbors=13, weights=distance ................................\n",
      "[CV] ................. n_neighbors=13, weights=distance, total=   0.0s\n",
      "[CV] n_neighbors=13, weights=distance ................................\n",
      "[CV] ................. n_neighbors=13, weights=distance, total=   0.0s\n",
      "[CV] n_neighbors=13, weights=distance ................................\n",
      "[CV] ................. n_neighbors=13, weights=distance, total=   0.0s\n",
      "[CV] n_neighbors=15, weights=uniform .................................\n",
      "[CV] .................. n_neighbors=15, weights=uniform, total=   0.0s\n",
      "[CV] n_neighbors=15, weights=uniform .................................\n",
      "[CV] .................. n_neighbors=15, weights=uniform, total=   0.0s\n",
      "[CV] n_neighbors=15, weights=uniform .................................\n",
      "[CV] .................. n_neighbors=15, weights=uniform, total=   0.0s\n",
      "[CV] n_neighbors=15, weights=uniform .................................\n",
      "[CV] .................. n_neighbors=15, weights=uniform, total=   0.0s\n",
      "[CV] n_neighbors=15, weights=uniform .................................\n",
      "[CV] .................. n_neighbors=15, weights=uniform, total=   0.0s\n",
      "[CV] n_neighbors=15, weights=uniform .................................\n",
      "[CV] .................. n_neighbors=15, weights=uniform, total=   0.0s\n",
      "[CV] n_neighbors=15, weights=uniform .................................\n",
      "[CV] .................. n_neighbors=15, weights=uniform, total=   0.0s\n",
      "[CV] n_neighbors=15, weights=uniform .................................\n",
      "[CV] .................. n_neighbors=15, weights=uniform, total=   0.0s\n",
      "[CV] n_neighbors=15, weights=uniform .................................\n",
      "[CV] .................. n_neighbors=15, weights=uniform, total=   0.0s\n",
      "[CV] n_neighbors=15, weights=uniform .................................\n",
      "[CV] .................. n_neighbors=15, weights=uniform, total=   0.0s\n",
      "[CV] n_neighbors=15, weights=distance ................................\n",
      "[CV] ................. n_neighbors=15, weights=distance, total=   0.0s\n",
      "[CV] n_neighbors=15, weights=distance ................................\n",
      "[CV] ................. n_neighbors=15, weights=distance, total=   0.0s\n",
      "[CV] n_neighbors=15, weights=distance ................................\n",
      "[CV] ................. n_neighbors=15, weights=distance, total=   0.0s\n",
      "[CV] n_neighbors=15, weights=distance ................................\n",
      "[CV] ................. n_neighbors=15, weights=distance, total=   0.0s\n",
      "[CV] n_neighbors=15, weights=distance ................................\n",
      "[CV] ................. n_neighbors=15, weights=distance, total=   0.0s\n",
      "[CV] n_neighbors=15, weights=distance ................................\n",
      "[CV] ................. n_neighbors=15, weights=distance, total=   0.0s\n",
      "[CV] n_neighbors=15, weights=distance ................................\n",
      "[CV] ................. n_neighbors=15, weights=distance, total=   0.0s\n",
      "[CV] n_neighbors=15, weights=distance ................................\n",
      "[CV] ................. n_neighbors=15, weights=distance, total=   0.0s\n",
      "[CV] n_neighbors=15, weights=distance ................................\n",
      "[CV] ................. n_neighbors=15, weights=distance, total=   0.0s\n",
      "[CV] n_neighbors=15, weights=distance ................................\n",
      "[CV] ................. n_neighbors=15, weights=distance, total=   0.0s\n"
     ]
    },
    {
     "name": "stderr",
     "output_type": "stream",
     "text": [
      "[Parallel(n_jobs=1)]: Done 140 out of 140 | elapsed:    1.6s finished\n"
     ]
    },
    {
     "data": {
      "text/plain": [
       "GridSearchCV(cv=10, error_score='raise',\n",
       "       estimator=KNeighborsClassifier(algorithm='auto', leaf_size=30, metric='minkowski',\n",
       "           metric_params=None, n_jobs=1, n_neighbors=5, p=2,\n",
       "           weights='uniform'),\n",
       "       fit_params=None, iid=True, n_jobs=1,\n",
       "       param_grid={'n_neighbors': [3, 5, 7, 9, 11, 13, 15], 'weights': ['uniform', 'distance']},\n",
       "       pre_dispatch='2*n_jobs', refit=True, return_train_score='warn',\n",
       "       scoring=None, verbose=2)"
      ]
     },
     "execution_count": 19,
     "metadata": {},
     "output_type": "execute_result"
    }
   ],
   "source": [
    "# Comparing results we can know if the model is overfiting or underfiting\n",
    "migscv.fit(X,Y) "
   ]
  },
  {
   "cell_type": "code",
   "execution_count": 20,
   "metadata": {
    "collapsed": true
   },
   "outputs": [],
   "source": [
    "miMejorKvecinos = migscv.best_estimator_"
   ]
  },
  {
   "cell_type": "code",
   "execution_count": 21,
   "metadata": {},
   "outputs": [
    {
     "data": {
      "text/plain": [
       "KNeighborsClassifier(algorithm='auto', leaf_size=30, metric='minkowski',\n",
       "           metric_params=None, n_jobs=1, n_neighbors=13, p=2,\n",
       "           weights='uniform')"
      ]
     },
     "execution_count": 21,
     "metadata": {},
     "output_type": "execute_result"
    }
   ],
   "source": [
    "miMejorKvecinos.fit(X,Y)"
   ]
  },
  {
   "cell_type": "code",
   "execution_count": 22,
   "metadata": {
    "collapsed": true
   },
   "outputs": [],
   "source": [
    "### Part 4: PCA"
   ]
  },
  {
   "cell_type": "code",
   "execution_count": 23,
   "metadata": {
    "collapsed": true
   },
   "outputs": [],
   "source": [
    "from sklearn.decomposition import PCA"
   ]
  },
  {
   "cell_type": "code",
   "execution_count": 24,
   "metadata": {
    "collapsed": true
   },
   "outputs": [],
   "source": [
    "miPCA = PCA(n_components = 2)"
   ]
  },
  {
   "cell_type": "code",
   "execution_count": 25,
   "metadata": {
    "collapsed": true
   },
   "outputs": [],
   "source": [
    "#It shows the original dataset. We use .fit, but we need to transform it to be able to work with it.\n",
    "X_PCA = miPCA.fit_transform(X) "
   ]
  },
  {
   "cell_type": "code",
   "execution_count": 26,
   "metadata": {},
   "outputs": [
    {
     "data": {
      "image/png": "[encoded data removed]",
      "text/plain": [
       "<matplotlib.figure.Figure at 0x10c864cc0>"
      ]
     },
     "metadata": {},
     "output_type": "display_data"
    }
   ],
   "source": [
    "plt.scatter(X_PCA[:,0], X_PCA[:,1], s=100, c=Y)\n",
    "plt.show()"
   ]
  },
  {
   "cell_type": "code",
   "execution_count": 27,
   "metadata": {
    "collapsed": true
   },
   "outputs": [],
   "source": [
    "### Part 5: Naives Bayes"
   ]
  },
  {
   "cell_type": "code",
   "execution_count": 28,
   "metadata": {
    "collapsed": true
   },
   "outputs": [],
   "source": [
    "from sklearn.naive_bayes import GaussianNB"
   ]
  },
  {
   "cell_type": "code",
   "execution_count": 29,
   "metadata": {
    "collapsed": true
   },
   "outputs": [],
   "source": [
    "miGNB = GaussianNB()"
   ]
  },
  {
   "cell_type": "code",
   "execution_count": 30,
   "metadata": {
    "collapsed": true
   },
   "outputs": [],
   "source": [
    "micvs = cross_val_score(miGNB,X,Y,cv=10)"
   ]
  },
  {
   "cell_type": "code",
   "execution_count": 31,
   "metadata": {},
   "outputs": [
    {
     "name": "stdout",
     "output_type": "stream",
     "text": [
      "Mean: 0.938679673321\n",
      "Std: 0.0301128874837\n"
     ]
    }
   ],
   "source": [
    "print(\"Mean: \" + str(np.mean(micvs)))\n",
    "print(\"Std: \" + str(np.std(micvs)))"
   ]
  },
  {
   "cell_type": "code",
   "execution_count": 32,
   "metadata": {
    "collapsed": true
   },
   "outputs": [],
   "source": [
    "### Part 6: Decision Tree"
   ]
  },
  {
   "cell_type": "code",
   "execution_count": 33,
   "metadata": {
    "collapsed": true
   },
   "outputs": [],
   "source": [
    "from sklearn.tree import DecisionTreeClassifier"
   ]
  },
  {
   "cell_type": "code",
   "execution_count": 34,
   "metadata": {
    "collapsed": true
   },
   "outputs": [],
   "source": [
    "miDT = DecisionTreeClassifier()"
   ]
  },
  {
   "cell_type": "code",
   "execution_count": 35,
   "metadata": {
    "collapsed": true
   },
   "outputs": [],
   "source": [
    "micvs = cross_val_score(miDT,X,Y,cv=10)"
   ]
  },
  {
   "cell_type": "code",
   "execution_count": 36,
   "metadata": {},
   "outputs": [
    {
     "name": "stdout",
     "output_type": "stream",
     "text": [
      "Mean: 0.908789214415\n",
      "Std: 0.0238374526481\n"
     ]
    }
   ],
   "source": [
    "print(\"Mean: \" + str(np.mean(micvs)))\n",
    "print(\"Std: \" + str(np.std(micvs)))"
   ]
  },
  {
   "cell_type": "code",
   "execution_count": 37,
   "metadata": {
    "collapsed": true
   },
   "outputs": [],
   "source": [
    "### Part 7: Decision Tree 2"
   ]
  },
  {
   "cell_type": "code",
   "execution_count": 38,
   "metadata": {
    "collapsed": true
   },
   "outputs": [],
   "source": [
    "miPCA = PCA(n_components = 2)"
   ]
  },
  {
   "cell_type": "code",
   "execution_count": 39,
   "metadata": {
    "collapsed": true
   },
   "outputs": [],
   "source": [
    "X_PCA = miPCA.fit_transform(X)"
   ]
  },
  {
   "cell_type": "code",
   "execution_count": 40,
   "metadata": {
    "collapsed": true
   },
   "outputs": [],
   "source": [
    "miDT = DecisionTreeClassifier()"
   ]
  },
  {
   "cell_type": "code",
   "execution_count": 41,
   "metadata": {},
   "outputs": [
    {
     "data": {
      "text/plain": [
       "DecisionTreeClassifier(class_weight=None, criterion='gini', max_depth=None,\n",
       "            max_features=None, max_leaf_nodes=None,\n",
       "            min_impurity_decrease=0.0, min_impurity_split=None,\n",
       "            min_samples_leaf=1, min_samples_split=2,\n",
       "            min_weight_fraction_leaf=0.0, presort=False, random_state=None,\n",
       "            splitter='best')"
      ]
     },
     "execution_count": 41,
     "metadata": {},
     "output_type": "execute_result"
    }
   ],
   "source": [
    "miDT.fit(X_PCA,Y)"
   ]
  },
  {
   "cell_type": "code",
   "execution_count": 42,
   "metadata": {
    "collapsed": true
   },
   "outputs": [],
   "source": [
    "xx1, xx2 = np.meshgrid(np.linspace(X_PCA[:,0].min(),X_PCA[:,0].max(),100),np.linspace(X_PCA[:,1].min(),X_PCA[:,1].max(),100))"
   ]
  },
  {
   "cell_type": "code",
   "execution_count": 43,
   "metadata": {
    "collapsed": true
   },
   "outputs": [],
   "source": [
    "Z = miDT.predict(np.c_[xx1.ravel(), xx2.ravel()])"
   ]
  },
  {
   "cell_type": "code",
   "execution_count": 44,
   "metadata": {
    "collapsed": true
   },
   "outputs": [],
   "source": [
    "Z = Z.reshape(xx1.shape)"
   ]
  },
  {
   "cell_type": "code",
   "execution_count": 45,
   "metadata": {},
   "outputs": [
    {
     "data": {
      "image/png": "[encoded data removed]",
      "text/plain": [
       "<matplotlib.figure.Figure at 0x10f636240>"
      ]
     },
     "metadata": {},
     "output_type": "display_data"
    }
   ],
   "source": [
    "plt.contourf(xx1, xx2, Z, alpha=0.4)\n",
    "plt.scatter(X_PCA[:,0],X_PCA[:,1],s=100,c=Y)\n",
    "# plt.scatter(xx1,xx2,s=50,c=Z)\n",
    "plt.axis('tight')\n",
    "plt.show()"
   ]
  },
  {
   "cell_type": "code",
   "execution_count": 46,
   "metadata": {
    "collapsed": true
   },
   "outputs": [],
   "source": [
    "### Part 8: KNN usando PCA"
   ]
  },
  {
   "cell_type": "code",
   "execution_count": 47,
   "metadata": {
    "collapsed": true
   },
   "outputs": [],
   "source": [
    "miPCA = PCA(n_components = 2)"
   ]
  },
  {
   "cell_type": "code",
   "execution_count": 48,
   "metadata": {
    "collapsed": true
   },
   "outputs": [],
   "source": [
    "X_PCA = miPCA.fit_transform(X)"
   ]
  },
  {
   "cell_type": "code",
   "execution_count": 49,
   "metadata": {
    "collapsed": true
   },
   "outputs": [],
   "source": [
    "miKNN = KNeighborsClassifier(n_neighbors = 1)"
   ]
  },
  {
   "cell_type": "code",
   "execution_count": 50,
   "metadata": {},
   "outputs": [
    {
     "data": {
      "text/plain": [
       "KNeighborsClassifier(algorithm='auto', leaf_size=30, metric='minkowski',\n",
       "           metric_params=None, n_jobs=1, n_neighbors=1, p=2,\n",
       "           weights='uniform')"
      ]
     },
     "execution_count": 50,
     "metadata": {},
     "output_type": "execute_result"
    }
   ],
   "source": [
    "miKNN.fit(X_PCA,Y)"
   ]
  },
  {
   "cell_type": "code",
   "execution_count": 51,
   "metadata": {
    "collapsed": true
   },
   "outputs": [],
   "source": [
    "xx1, xx2 = np.meshgrid(np.linspace(X_PCA[:,0].min(),X_PCA[:,0].max(),100),np.linspace(X_PCA[:,1].min(),X_PCA[:,1].max(),100))"
   ]
  },
  {
   "cell_type": "code",
   "execution_count": 52,
   "metadata": {
    "collapsed": true
   },
   "outputs": [],
   "source": [
    "Z = miKNN.predict(np.c_[xx1.ravel(), xx2.ravel()])"
   ]
  },
  {
   "cell_type": "code",
   "execution_count": 53,
   "metadata": {
    "collapsed": true
   },
   "outputs": [],
   "source": [
    "Z = Z.reshape(xx1.shape)"
   ]
  },
  {
   "cell_type": "code",
   "execution_count": 54,
   "metadata": {},
   "outputs": [
    {
     "data": {
      "image/png": "[encoded data removed]",
      "text/plain": [
       "<matplotlib.figure.Figure at 0x10fa5b1d0>"
      ]
     },
     "metadata": {},
     "output_type": "display_data"
    }
   ],
   "source": [
    "plt.contourf(xx1, xx2, Z, alpha=0.4)\n",
    "plt.scatter(X_PCA[:,0],X_PCA[:,1],s=100,c=Y)\n",
    "# plt.scatter(xx1,xx2,s=50,c=Z)\n",
    "plt.axis('tight')\n",
    "plt.show()"
   ]
  },
  {
   "cell_type": "code",
   "execution_count": 55,
   "metadata": {
    "collapsed": true
   },
   "outputs": [],
   "source": [
    "### Part 9: Neural Network usando PCA"
   ]
  },
  {
   "cell_type": "code",
   "execution_count": 56,
   "metadata": {
    "collapsed": true
   },
   "outputs": [],
   "source": [
    "from sklearn.neural_network import MLPClassifier"
   ]
  },
  {
   "cell_type": "code",
   "execution_count": 57,
   "metadata": {
    "collapsed": true
   },
   "outputs": [],
   "source": [
    "miPCA = PCA(n_components = 2)"
   ]
  },
  {
   "cell_type": "code",
   "execution_count": 58,
   "metadata": {
    "collapsed": true
   },
   "outputs": [],
   "source": [
    "X_PCA = miPCA.fit_transform(X)"
   ]
  },
  {
   "cell_type": "code",
   "execution_count": 59,
   "metadata": {
    "collapsed": true
   },
   "outputs": [],
   "source": [
    "miMLP = MLPClassifier(hidden_layer_sizes=(10,10),max_iter=1000)"
   ]
  },
  {
   "cell_type": "code",
   "execution_count": 60,
   "metadata": {},
   "outputs": [
    {
     "data": {
      "text/plain": [
       "MLPClassifier(activation='relu', alpha=0.0001, batch_size='auto', beta_1=0.9,\n",
       "       beta_2=0.999, early_stopping=False, epsilon=1e-08,\n",
       "       hidden_layer_sizes=(10, 10), learning_rate='constant',\n",
       "       learning_rate_init=0.001, max_iter=1000, momentum=0.9,\n",
       "       nesterovs_momentum=True, power_t=0.5, random_state=None,\n",
       "       shuffle=True, solver='adam', tol=0.0001, validation_fraction=0.1,\n",
       "       verbose=False, warm_start=False)"
      ]
     },
     "execution_count": 60,
     "metadata": {},
     "output_type": "execute_result"
    }
   ],
   "source": [
    "miMLP.fit(X_PCA,Y)"
   ]
  },
  {
   "cell_type": "code",
   "execution_count": 61,
   "metadata": {
    "collapsed": true
   },
   "outputs": [],
   "source": [
    "xx1, xx2 = np.meshgrid(np.linspace(X_PCA[:,0].min(),X_PCA[:,0].max(),100),np.linspace(X_PCA[:,1].min(),X_PCA[:,1].max(),100))"
   ]
  },
  {
   "cell_type": "code",
   "execution_count": 62,
   "metadata": {
    "collapsed": true
   },
   "outputs": [],
   "source": [
    "Z = miMLP.predict(np.c_[xx1.ravel(), xx2.ravel()])"
   ]
  },
  {
   "cell_type": "code",
   "execution_count": 63,
   "metadata": {
    "collapsed": true
   },
   "outputs": [],
   "source": [
    "Z = Z.reshape(xx1.shape)"
   ]
  },
  {
   "cell_type": "code",
   "execution_count": 64,
   "metadata": {},
   "outputs": [
    {
     "data": {
      "image/png": "[encoded data removed]",
      "text/plain": [
       "<matplotlib.figure.Figure at 0x10fb93ba8>"
      ]
     },
     "metadata": {},
     "output_type": "display_data"
    }
   ],
   "source": [
    "plt.contourf(xx1, xx2, Z, alpha=0.4)\n",
    "plt.scatter(X_PCA[:,0],X_PCA[:,1],s=100,c=Y)\n",
    "# plt.scatter(xx1,xx2,s=50,c=Z)\n",
    "plt.axis('tight')\n",
    "plt.show()\n"
   ]
  },
  {
   "cell_type": "code",
   "execution_count": 65,
   "metadata": {
    "collapsed": true
   },
   "outputs": [],
   "source": [
    "### Part 10: SVC usando PCA"
   ]
  },
  {
   "cell_type": "code",
   "execution_count": 66,
   "metadata": {
    "collapsed": true
   },
   "outputs": [],
   "source": [
    "from sklearn.svm import SVC"
   ]
  },
  {
   "cell_type": "code",
   "execution_count": 67,
   "metadata": {
    "collapsed": true
   },
   "outputs": [],
   "source": [
    "miPCA = PCA(n_components = 2)"
   ]
  },
  {
   "cell_type": "code",
   "execution_count": 68,
   "metadata": {
    "collapsed": true
   },
   "outputs": [],
   "source": [
    "X_PCA = miPCA.fit_transform(X)"
   ]
  },
  {
   "cell_type": "code",
   "execution_count": 69,
   "metadata": {
    "collapsed": true
   },
   "outputs": [],
   "source": [
    "miSVC = SVC(C=10000,gamma=100,kernel='rbf')"
   ]
  },
  {
   "cell_type": "code",
   "execution_count": 70,
   "metadata": {},
   "outputs": [
    {
     "data": {
      "text/plain": [
       "SVC(C=10000, cache_size=200, class_weight=None, coef0=0.0,\n",
       "  decision_function_shape='ovr', degree=3, gamma=100, kernel='rbf',\n",
       "  max_iter=-1, probability=False, random_state=None, shrinking=True,\n",
       "  tol=0.001, verbose=False)"
      ]
     },
     "execution_count": 70,
     "metadata": {},
     "output_type": "execute_result"
    }
   ],
   "source": [
    "miSVC.fit(X_PCA,Y)"
   ]
  },
  {
   "cell_type": "code",
   "execution_count": 71,
   "metadata": {
    "collapsed": true
   },
   "outputs": [],
   "source": [
    "xx1, xx2 = np.meshgrid(np.linspace(X_PCA[:,0].min(),X_PCA[:,0].max(),100),np.linspace(X_PCA[:,1].min(),X_PCA[:,1].max(),100))"
   ]
  },
  {
   "cell_type": "code",
   "execution_count": 72,
   "metadata": {
    "collapsed": true
   },
   "outputs": [],
   "source": [
    "Z = miSVC.predict(np.c_[xx1.ravel(), xx2.ravel()])"
   ]
  },
  {
   "cell_type": "code",
   "execution_count": 73,
   "metadata": {
    "collapsed": true
   },
   "outputs": [],
   "source": [
    "Z = Z.reshape(xx1.shape)"
   ]
  },
  {
   "cell_type": "code",
   "execution_count": 74,
   "metadata": {},
   "outputs": [
    {
     "data": {
      "image/png": "[encoded data removed]",
      "text/plain": [
       "<matplotlib.figure.Figure at 0x10f629c18>"
      ]
     },
     "metadata": {},
     "output_type": "display_data"
    }
   ],
   "source": [
    "plt.contourf(xx1, xx2, Z, alpha=0.4)\n",
    "plt.scatter(X_PCA[:,0],X_PCA[:,1],s=100,c=Y)\n",
    "#plt.scatter(xx1,xx2,s=50,c=Z)\n",
    "plt.axis('tight')\n",
    "plt.show()"
   ]
  },
  {
   "cell_type": "code",
   "execution_count": 75,
   "metadata": {
    "collapsed": true
   },
   "outputs": [],
   "source": [
    "### Part 11: Random Forest usando PCA"
   ]
  },
  {
   "cell_type": "code",
   "execution_count": 76,
   "metadata": {
    "collapsed": true
   },
   "outputs": [],
   "source": [
    "from sklearn.ensemble import RandomForestClassifier"
   ]
  },
  {
   "cell_type": "code",
   "execution_count": 77,
   "metadata": {
    "collapsed": true
   },
   "outputs": [],
   "source": [
    "miPCA = PCA(n_components = 2)"
   ]
  },
  {
   "cell_type": "code",
   "execution_count": 78,
   "metadata": {
    "collapsed": true
   },
   "outputs": [],
   "source": [
    "X_PCA = miPCA.fit_transform(X)"
   ]
  },
  {
   "cell_type": "code",
   "execution_count": 79,
   "metadata": {
    "collapsed": true
   },
   "outputs": [],
   "source": [
    "miRF = RandomForestClassifier(n_estimators=10,max_depth=3)"
   ]
  },
  {
   "cell_type": "code",
   "execution_count": 80,
   "metadata": {},
   "outputs": [
    {
     "data": {
      "text/plain": [
       "RandomForestClassifier(bootstrap=True, class_weight=None, criterion='gini',\n",
       "            max_depth=3, max_features='auto', max_leaf_nodes=None,\n",
       "            min_impurity_decrease=0.0, min_impurity_split=None,\n",
       "            min_samples_leaf=1, min_samples_split=2,\n",
       "            min_weight_fraction_leaf=0.0, n_estimators=10, n_jobs=1,\n",
       "            oob_score=False, random_state=None, verbose=0,\n",
       "            warm_start=False)"
      ]
     },
     "execution_count": 80,
     "metadata": {},
     "output_type": "execute_result"
    }
   ],
   "source": [
    "miRF.fit(X_PCA,Y)"
   ]
  },
  {
   "cell_type": "code",
   "execution_count": 81,
   "metadata": {
    "collapsed": true
   },
   "outputs": [],
   "source": [
    "xx1, xx2 = np.meshgrid(np.linspace(X_PCA[:,0].min(),X_PCA[:,0].max(),100),np.linspace(X_PCA[:,1].min(),X_PCA[:,1].max(),100))"
   ]
  },
  {
   "cell_type": "code",
   "execution_count": 82,
   "metadata": {
    "collapsed": true
   },
   "outputs": [],
   "source": [
    "Z = miRF.predict(np.c_[xx1.ravel(), xx2.ravel()])"
   ]
  },
  {
   "cell_type": "code",
   "execution_count": 83,
   "metadata": {
    "collapsed": true
   },
   "outputs": [],
   "source": [
    "Z = Z.reshape(xx1.shape)"
   ]
  },
  {
   "cell_type": "code",
   "execution_count": 84,
   "metadata": {},
   "outputs": [
    {
     "data": {
      "image/png": "[encoded data removed]",
      "text/plain": [
       "<matplotlib.figure.Figure at 0x1a16fa74a8>"
      ]
     },
     "metadata": {},
     "output_type": "display_data"
    }
   ],
   "source": [
    "plt.contourf(xx1, xx2, Z, alpha=0.4)\n",
    "plt.scatter(X_PCA[:,0],X_PCA[:,1],s=100,c=Y)\n",
    "#plt.scatter(xx1,xx2,s=50,c=Z)\n",
    "plt.axis('tight')\n",
    "plt.show()"
   ]
  },
  {
   "cell_type": "code",
   "execution_count": 85,
   "metadata": {
    "collapsed": true
   },
   "outputs": [],
   "source": [
    "### Part 12: Boosting"
   ]
  },
  {
   "cell_type": "code",
   "execution_count": 86,
   "metadata": {
    "collapsed": true
   },
   "outputs": [],
   "source": [
    "from sklearn.ensemble import AdaBoostClassifier"
   ]
  },
  {
   "cell_type": "code",
   "execution_count": 87,
   "metadata": {
    "collapsed": true
   },
   "outputs": [],
   "source": [
    "miPCA = PCA(n_components = 2)"
   ]
  },
  {
   "cell_type": "code",
   "execution_count": 88,
   "metadata": {
    "collapsed": true
   },
   "outputs": [],
   "source": [
    "X_PCA = miPCA.fit_transform(X)"
   ]
  },
  {
   "cell_type": "code",
   "execution_count": 89,
   "metadata": {
    "collapsed": true
   },
   "outputs": [],
   "source": [
    "miADB = AdaBoostClassifier(n_estimators=50)"
   ]
  },
  {
   "cell_type": "code",
   "execution_count": 90,
   "metadata": {},
   "outputs": [
    {
     "data": {
      "text/plain": [
       "AdaBoostClassifier(algorithm='SAMME.R', base_estimator=None,\n",
       "          learning_rate=1.0, n_estimators=50, random_state=None)"
      ]
     },
     "execution_count": 90,
     "metadata": {},
     "output_type": "execute_result"
    }
   ],
   "source": [
    "miADB.fit(X_PCA,Y)"
   ]
  },
  {
   "cell_type": "code",
   "execution_count": 91,
   "metadata": {
    "collapsed": true
   },
   "outputs": [],
   "source": [
    "xx1, xx2 = np.meshgrid(np.linspace(X_PCA[:,0].min(),X_PCA[:,0].max(),100),np.linspace(X_PCA[:,1].min(),X_PCA[:,1].max(),100))"
   ]
  },
  {
   "cell_type": "code",
   "execution_count": 92,
   "metadata": {
    "collapsed": true
   },
   "outputs": [],
   "source": [
    "Z = miADB.predict(np.c_[xx1.ravel(), xx2.ravel()])"
   ]
  },
  {
   "cell_type": "code",
   "execution_count": 93,
   "metadata": {
    "collapsed": true
   },
   "outputs": [],
   "source": [
    "Z = Z.reshape(xx1.shape)"
   ]
  },
  {
   "cell_type": "code",
   "execution_count": 94,
   "metadata": {},
   "outputs": [
    {
     "data": {
      "image/png": "[encoded data removed]",
      "text/plain": [
       "<matplotlib.figure.Figure at 0x10fb93630>"
      ]
     },
     "metadata": {},
     "output_type": "display_data"
    }
   ],
   "source": [
    "plt.contourf(xx1, xx2, Z, alpha=0.4)\n",
    "plt.scatter(X_PCA[:,0],X_PCA[:,1],s=100,c=Y)\n",
    "# plt.scatter(xx1,xx2,s=50,c=Z)\n",
    "plt.axis('tight')\n",
    "plt.show()"
   ]
  }
 ],
 "metadata": {
  "kernelspec": {
   "display_name": "Python 3",
   "language": "python",
   "name": "python3"
  },
  "language_info": {
   "codemirror_mode": {
    "name": "ipython",
    "version": 3
   },
   "file_extension": ".py",
   "mimetype": "text/x-python",
   "name": "python",
   "nbconvert_exporter": "python",
   "pygments_lexer": "ipython3",
   "version": "3.6.3"
  }
 },
 "nbformat": 4,
 "nbformat_minor": 2
}
